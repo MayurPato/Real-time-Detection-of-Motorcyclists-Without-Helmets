{
  "cells": [
    {
      "cell_type": "code",
      "execution_count": null,
      "metadata": {
        "colab": {
          "base_uri": "https://localhost:8080/",
          "height": 1000
        },
        "id": "2wdi97alSKEA",
        "outputId": "6df4959b-97e6-4f9b-d2c0-3f67ea64f762"
      },
      "outputs": [],
      "source": [
        "!pip install roboflow\n",
        "\n",
        "from roboflow import Roboflow\n",
        "rf = Roboflow(api_key=\"\")\n",
        "project = rf.workspace(\"\").project(\"\")\n",
        "dataset = project.version(1).download(\"yolov5\")"
      ]
    },
    {
      "cell_type": "code",
      "execution_count": null,
      "metadata": {
        "colab": {
          "base_uri": "https://localhost:8080/"
        },
        "id": "mhm18eePljaJ",
        "outputId": "0c1b938e-3f06-44b9-b025-20667661f21d"
      },
      "outputs": [],
      "source": [
        "from google.colab import drive\n",
        "drive.mount('/content/drive')"
      ]
    },
    {
      "cell_type": "code",
      "execution_count": null,
      "metadata": {
        "colab": {
          "base_uri": "https://localhost:8080/"
        },
        "id": "0GUx-JS1moVI",
        "outputId": "46dddf29-de06-4d7d-e3cc-c3470d66f828"
      },
      "outputs": [],
      "source": [
        "!git clone https://github.com/ultralytics/yolov5.git"
      ]
    },
    {
      "cell_type": "code",
      "execution_count": null,
      "metadata": {
        "colab": {
          "base_uri": "https://localhost:8080/"
        },
        "id": "MzbH19o8msjq",
        "outputId": "c97ce24a-4f20-4ce8-c144-9bf22efa4193"
      },
      "outputs": [],
      "source": [
        "%cd yolov5/"
      ]
    },
    {
      "cell_type": "code",
      "execution_count": null,
      "metadata": {
        "colab": {
          "base_uri": "https://localhost:8080/",
          "height": 1000
        },
        "id": "VMNoqmTWm0cU",
        "outputId": "ef4871e5-1d95-48be-b495-04a21b07c3f6"
      },
      "outputs": [],
      "source": [
        "!pip install -r requirements.txt"
      ]
    },
    {
      "cell_type": "code",
      "execution_count": null,
      "metadata": {
        "colab": {
          "base_uri": "https://localhost:8080/"
        },
        "id": "pWHKnhaZm6DE",
        "outputId": "415e5f6c-e30a-4792-a1f5-742d612032ac"
      },
      "outputs": [],
      "source": [
        "!wget https://github.com/ultralytics/yolov5/releases/download/v6.1/yolov5m.pt"
      ]
    },
    {
      "cell_type": "code",
      "execution_count": null,
      "metadata": {
        "colab": {
          "base_uri": "https://localhost:8080/"
        },
        "id": "PvOxPmp1nyE2",
        "outputId": "68bf1fef-a76e-442b-8e98-923acf895abb"
      },
      "outputs": [],
      "source": [
        "!python train.py --img 416 --batch 8 --epochs 100 --data ../data.yaml --weights /content/yolov5/yolov5m.pt "
      ]
    },
    {
      "cell_type": "code",
      "execution_count": null,
      "metadata": {
        "id": "fev5yUMiL6K4"
      },
      "outputs": [],
      "source": [
        "!cp /content/yolov5/runs/train/exp/weights/last.pt /content/drive/MyDrive/BikeNoHelmetDetection"
      ]
    },
    {
      "cell_type": "code",
      "execution_count": null,
      "metadata": {
        "colab": {
          "base_uri": "https://localhost:8080/"
        },
        "id": "a8AxlZ6AqcCb",
        "outputId": "cef36eba-a7d3-4d37-80bc-9e0501957a5c"
      },
      "outputs": [],
      "source": [
        "!python detect.py --source ../testvideo.mp4 --weights ../best.pt --img 416 --save-txt --save-conf"
      ]
    }
  ],
  "metadata": {
    "accelerator": "GPU",
    "colab": {
      "provenance": []
    },
    "kernelspec": {
      "display_name": "Python 3",
      "name": "python3"
    },
    "language_info": {
      "name": "python"
    }
  },
  "nbformat": 4,
  "nbformat_minor": 0
}
