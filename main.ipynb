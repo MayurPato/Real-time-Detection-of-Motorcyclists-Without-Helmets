{
 "cells": [
  {
   "cell_type": "code",
   "execution_count": null,
   "metadata": {},
   "outputs": [],
   "source": [
    "import cv2\n",
    "import torch\n",
    "import numpy as np\n",
    "import pandas as pd\n",
    "import concurrent.futures"
   ]
  },
  {
   "cell_type": "code",
   "execution_count": null,
   "metadata": {},
   "outputs": [],
   "source": [
    "# Model 1: For Helmet/Head Detection\n",
    "path = \".../custom_weights.pt\"\n",
    "model1 = torch.hub.load('ultralytics/yolov5', 'custom', path, force_reload = True)"
   ]
  },
  {
   "cell_type": "code",
   "execution_count": null,
   "metadata": {},
   "outputs": [],
   "source": [
    "# Model 2: For Motorcycle Detection\n",
    "model2 = torch.hub.load('ultralytics/yolov5', 'yolov5s', pretrained = True)\n",
    "\n",
    "coco_file = open(\".../coco.txt\") \n",
    "data = coco_file.read()\n",
    "class_list = data.split(\"\\n\") "
   ]
  },
  {
   "cell_type": "code",
   "execution_count": null,
   "metadata": {},
   "outputs": [],
   "source": [
    "# Model 1\n",
    "def run_model1(frame):\n",
    "    results1 = model1(frame)\n",
    "    \n",
    "    px1 = pd.DataFrame(results1.xyxy[0])\n",
    "    list1 = []\n",
    "    for index,row in px1.iterrows():\n",
    "        x1 = int(row[0]) \n",
    "        y1 = int(row[1])\n",
    "        x2 = int(row[2]) \n",
    "        y2 = int(row[3])  \n",
    "        d = int(row[5])\n",
    "        if d == 2: #0 - helmet, 1 - person, 2 - head\n",
    "            list1.append([x1, y1, x2, y2])\n",
    "\n",
    "    return list1"
   ]
  },
  {
   "cell_type": "code",
   "execution_count": null,
   "metadata": {},
   "outputs": [],
   "source": [
    "# Model 2\n",
    "def run_model2(frame):\n",
    "    results2 = model2(frame)\n",
    "    \n",
    "    px2 = pd.DataFrame(results2.xyxy[0])\n",
    "    list2 = []\n",
    "    for index,row in px2.iterrows():\n",
    "        x1 = int(row[0]) \n",
    "        y1 = int(row[1]) \n",
    "        x2 = int(row[2]) \n",
    "        y2 = int(row[3])  \n",
    "        c = class_list[int(row[5])] \n",
    "        if 'motorcycle' in c:\n",
    "            list2.append([x1, y1 - int(0.2*image_height), x2, y2])\n",
    "\n",
    "    return list2"
   ]
  },
  {
   "cell_type": "code",
   "execution_count": null,
   "metadata": {},
   "outputs": [],
   "source": [
    "# Integration of results from Model 1 and 2\n",
    "def find_point_box_relationship(frame, list1, list2):\n",
    "    for box1 in list1:\n",
    "        for box2 in list2:\n",
    "            x1, y1, x2, y2 = box1\n",
    "            p_inside = box2[0] <= x1 <= box2[2] and box2[1] <= y1 <= box2[3] and box2[0] <= x2 <= box2[2] and box2[1] <= y2 <= box2[3]\n",
    "\n",
    "            if p_inside:\n",
    "                cv2.rectangle(frame,(box1[0], box1[1]),(box1[2], box1[3]), (0, 255, 0), 2)\n",
    "                cv2.rectangle(frame,(box2[0], box2[1]),(box2[2], box2[3]), (0, 0, 255), 2)\n",
    "                cv2.putText(frame, \"Head\" ,(box1[0], box1[1]),cv2.FONT_HERSHEY_COMPLEX,(0.5),(0,255,255),1)\n",
    "\n",
    "                # roi = frame[box2[1]:box2[3], box2[0]:box2[2]]\n",
    "                # if roi.size != 0:\n",
    "                #     roi = cv2.cvtColor(roi, cv2.COLOR_RGB2BGR)\n",
    "                #     roi_height, roi_width, _ = roi.shape\n",
    "                #     roi = cv2.resize(roi, (roi_width*3, roi_height*3))\n",
    "                #     cv2.imwrite(\".../Bike Frames/image_%d.jpg\" %box2[2], roi)"
   ]
  },
  {
   "cell_type": "code",
   "execution_count": null,
   "metadata": {},
   "outputs": [],
   "source": [
    "# Main\n",
    "cap = cv2.VideoCapture(\".../sample video.mp4\")\n",
    "count = 0\n",
    "\n",
    "with concurrent.futures.ThreadPoolExecutor(max_workers = 2) as executor:\n",
    "    while True:\n",
    "        ret, frame = cap.read()\n",
    "        if ret is False: break\n",
    "        count += 1\n",
    "        if count % 3 != 0: \n",
    "            continue\n",
    "        \n",
    "        # frame = cv2.resize(frame, (1020, 500))\n",
    "        frame = cv2.cvtColor(frame, cv2.COLOR_BGR2RGB)\n",
    "\n",
    "        image_height, image_width, _ = frame.shape\n",
    "        \n",
    "        future1 = executor.submit(run_model1, frame)\n",
    "        future2 = executor.submit(run_model2, frame)\n",
    "        \n",
    "        # concurrent.futures.wait([future1, future2])\n",
    "        \n",
    "        list1 = future1.result()\n",
    "        list2 = future2.result()\n",
    "\n",
    "        if list1 and list2:\n",
    "            find_point_box_relationship(frame, list1, list2)\n",
    "        \n",
    "        frame = cv2.cvtColor(frame, cv2.COLOR_RGB2BGR)\n",
    "        cv2.imshow(\"Frame\", frame)\n",
    "        if cv2.waitKey(1) & 0xFF == 27:\n",
    "            break\n",
    "\n",
    "cap.release()\n",
    "cv2.destroyAllWindows()\n",
    "cv2.waitKey(1)"
   ]
  }
 ],
 "metadata": {
  "kernelspec": {
   "display_name": "Python 3",
   "language": "python",
   "name": "python3"
  },
  "language_info": {
   "codemirror_mode": {
    "name": "ipython",
    "version": 3
   },
   "file_extension": ".py",
   "mimetype": "text/x-python",
   "name": "python",
   "nbconvert_exporter": "python",
   "pygments_lexer": "ipython3",
   "version": "3.11.3"
  }
 },
 "nbformat": 4,
 "nbformat_minor": 2
}
